{
 "nbformat": 4,
 "nbformat_minor": 2,
 "metadata": {
  "language_info": {
   "name": "python",
   "codemirror_mode": {
    "name": "ipython",
    "version": 3
   },
   "version": "3.7.6-final"
  },
  "orig_nbformat": 2,
  "file_extension": ".py",
  "mimetype": "text/x-python",
  "name": "python",
  "npconvert_exporter": "python",
  "pygments_lexer": "ipython3",
  "version": 3,
  "kernelspec": {
   "name": "python37664bitd3d66a39aeab4289abdc3b4942c34ce4",
   "display_name": "Python 3.7.6 64-bit"
  }
 },
 "cells": [
  {
   "cell_type": "code",
   "execution_count": 3,
   "metadata": {},
   "outputs": [
    {
     "name": "stdout",
     "output_type": "stream",
     "text": "xrp       ada          btc\n2019-01-01T00:00:00.000Z  0.361322  0.042069  3808.117832\n2019-01-02T00:00:00.000Z  0.373487  0.045024  3898.197488\n2019-01-03T00:00:00.000Z  0.354333  0.042235  3784.388635\n2019-01-04T00:00:00.000Z  0.356293  0.043506  3827.524594\n2019-01-05T00:00:00.000Z  0.350902  0.044330  3798.613955\n"
    }
   ],
   "source": [
    "import pandas as pd\n",
    "\n",
    "from crypto_patterns_ml.data import coinmetrics_bridge\n",
    "\n",
    "assets = ['btc', 'ada', 'xrp']\n",
    "cm_metric = 'PriceUSD'\n",
    "start_date = '2019-01-01'\n",
    "end_date = '2020-01-22'\n",
    "\n",
    "df = coinmetrics_bridge.get_asset_prices(assets, 'PriceUSD', start_date, end_date)\n",
    "print(df.head())\n"
   ]
  },
  {
   "cell_type": "code",
   "execution_count": null,
   "metadata": {},
   "outputs": [],
   "source": []
  }
 ]
}